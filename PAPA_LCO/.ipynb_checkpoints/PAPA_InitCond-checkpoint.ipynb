{
 "cells": [
  {
   "cell_type": "markdown",
   "id": "36fa23af-78ca-4da4-947e-862017bf0d36",
   "metadata": {},
   "source": [
    " ## $\\underline{ \\textbf{Data Assimilation Problem For Pitch And Plung Airfoil (PAPA)}}$\n",
    " \n",
    " \n",
    " \n",
    "**Purpose**: We propose here an assimilation problem whose goal is to infer the initial conditions of the PAPA system from observations made on the pitch and heave.\n",
    " \n",
    " \n",
    " **Reference**\n",
    " \n",
    " [1] : [ V. Mons, J.-C. Chassaing, T. Gomez, P. Sagaut, \"Reconstruction of unsteady viscous flows using data assimilation schemes\", JCP 316 (2016) p. 255-280.](https://dropsu.sorbonne-universite.fr/s/oP8s9CeNS5zW5DG)\n",
    " \n",
    " [2] : [ A. Chaarane, \"Data Assimilation for Flow Induced Vibrations\",Stage, InstitutJean Le Rond D’Alembert, 2021.](https://dropsu.sorbonne-universite.fr/s/kr97PiKoJ8jFHfw)\n",
    " \n",
    " \n",
    "-----------------------------------\n",
    "**A. Chaarane**, Institute  D'Alembert, (26 Jan 2022)\n",
    "\n",
    "-----------------------------------"
   ]
  },
  {
   "cell_type": "code",
   "execution_count": 6,
   "id": "81d4f176-25d7-46da-a503-126662ccfac7",
   "metadata": {},
   "outputs": [],
   "source": [
    "import numpy as np\n",
    "import matplotlib.pyplot as plt\n",
    "import pickle\n",
    "import os\n",
    "import sys\n",
    "\n",
    "# ------ Importation Local\n",
    "PATH = \"../../DATA/DA_4DEnVar_V1/PAPA_LCO/InitCond/\"\n",
    "sys.path.append(\"../\")\n",
    "from Post_Trait import POSTRAIT"
   ]
  },
  {
   "cell_type": "markdown",
   "id": "d77f821b-6127-415b-86d2-39f2a92da26b",
   "metadata": {},
   "source": [
    "## I] "
   ]
  }
 ],
 "metadata": {
  "kernelspec": {
   "display_name": "Python 3",
   "language": "python",
   "name": "python3"
  },
  "language_info": {
   "codemirror_mode": {
    "name": "ipython",
    "version": 3
   },
   "file_extension": ".py",
   "mimetype": "text/x-python",
   "name": "python",
   "nbconvert_exporter": "python",
   "pygments_lexer": "ipython3",
   "version": "3.8.8"
  }
 },
 "nbformat": 4,
 "nbformat_minor": 5
}
